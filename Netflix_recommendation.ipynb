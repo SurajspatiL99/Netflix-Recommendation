{
 "cells": [
  {
   "cell_type": "markdown",
   "id": "ac4c6d5d",
   "metadata": {},
   "source": [
    "# Netflix Recommendation System"
   ]
  },
  {
   "cell_type": "code",
   "execution_count": 44,
   "id": "0df3b9ca",
   "metadata": {},
   "outputs": [],
   "source": [
    "# Importing Libraries\n",
    "import numpy as np\n",
    "import pandas as pd\n",
    "import matplotlib.pyplot as plt"
   ]
  },
  {
   "cell_type": "code",
   "execution_count": 2,
   "id": "ceaef7fc",
   "metadata": {},
   "outputs": [],
   "source": [
    "#reading in the Dataset\n",
    "df = pd.read_csv('netflix_titles.csv')"
   ]
  },
  {
   "cell_type": "code",
   "execution_count": 3,
   "id": "88ed8421",
   "metadata": {},
   "outputs": [
    {
     "data": {
      "text/html": [
       "<div>\n",
       "<style scoped>\n",
       "    .dataframe tbody tr th:only-of-type {\n",
       "        vertical-align: middle;\n",
       "    }\n",
       "\n",
       "    .dataframe tbody tr th {\n",
       "        vertical-align: top;\n",
       "    }\n",
       "\n",
       "    .dataframe thead th {\n",
       "        text-align: right;\n",
       "    }\n",
       "</style>\n",
       "<table border=\"1\" class=\"dataframe\">\n",
       "  <thead>\n",
       "    <tr style=\"text-align: right;\">\n",
       "      <th></th>\n",
       "      <th>show_id</th>\n",
       "      <th>type</th>\n",
       "      <th>title</th>\n",
       "      <th>director</th>\n",
       "      <th>cast</th>\n",
       "      <th>country</th>\n",
       "      <th>date_added</th>\n",
       "      <th>release_year</th>\n",
       "      <th>rating</th>\n",
       "      <th>duration</th>\n",
       "      <th>listed_in</th>\n",
       "      <th>description</th>\n",
       "    </tr>\n",
       "  </thead>\n",
       "  <tbody>\n",
       "    <tr>\n",
       "      <th>0</th>\n",
       "      <td>s1</td>\n",
       "      <td>Movie</td>\n",
       "      <td>Dick Johnson Is Dead</td>\n",
       "      <td>Kirsten Johnson</td>\n",
       "      <td>NaN</td>\n",
       "      <td>United States</td>\n",
       "      <td>September 25, 2021</td>\n",
       "      <td>2020</td>\n",
       "      <td>PG-13</td>\n",
       "      <td>90 min</td>\n",
       "      <td>Documentaries</td>\n",
       "      <td>As her father nears the end of his life, filmm...</td>\n",
       "    </tr>\n",
       "    <tr>\n",
       "      <th>1</th>\n",
       "      <td>s2</td>\n",
       "      <td>TV Show</td>\n",
       "      <td>Blood &amp; Water</td>\n",
       "      <td>NaN</td>\n",
       "      <td>Ama Qamata, Khosi Ngema, Gail Mabalane, Thaban...</td>\n",
       "      <td>South Africa</td>\n",
       "      <td>September 24, 2021</td>\n",
       "      <td>2021</td>\n",
       "      <td>TV-MA</td>\n",
       "      <td>2 Seasons</td>\n",
       "      <td>International TV Shows, TV Dramas, TV Mysteries</td>\n",
       "      <td>After crossing paths at a party, a Cape Town t...</td>\n",
       "    </tr>\n",
       "    <tr>\n",
       "      <th>2</th>\n",
       "      <td>s3</td>\n",
       "      <td>TV Show</td>\n",
       "      <td>Ganglands</td>\n",
       "      <td>Julien Leclercq</td>\n",
       "      <td>Sami Bouajila, Tracy Gotoas, Samuel Jouy, Nabi...</td>\n",
       "      <td>NaN</td>\n",
       "      <td>September 24, 2021</td>\n",
       "      <td>2021</td>\n",
       "      <td>TV-MA</td>\n",
       "      <td>1 Season</td>\n",
       "      <td>Crime TV Shows, International TV Shows, TV Act...</td>\n",
       "      <td>To protect his family from a powerful drug lor...</td>\n",
       "    </tr>\n",
       "    <tr>\n",
       "      <th>3</th>\n",
       "      <td>s4</td>\n",
       "      <td>TV Show</td>\n",
       "      <td>Jailbirds New Orleans</td>\n",
       "      <td>NaN</td>\n",
       "      <td>NaN</td>\n",
       "      <td>NaN</td>\n",
       "      <td>September 24, 2021</td>\n",
       "      <td>2021</td>\n",
       "      <td>TV-MA</td>\n",
       "      <td>1 Season</td>\n",
       "      <td>Docuseries, Reality TV</td>\n",
       "      <td>Feuds, flirtations and toilet talk go down amo...</td>\n",
       "    </tr>\n",
       "    <tr>\n",
       "      <th>4</th>\n",
       "      <td>s5</td>\n",
       "      <td>TV Show</td>\n",
       "      <td>Kota Factory</td>\n",
       "      <td>NaN</td>\n",
       "      <td>Mayur More, Jitendra Kumar, Ranjan Raj, Alam K...</td>\n",
       "      <td>India</td>\n",
       "      <td>September 24, 2021</td>\n",
       "      <td>2021</td>\n",
       "      <td>TV-MA</td>\n",
       "      <td>2 Seasons</td>\n",
       "      <td>International TV Shows, Romantic TV Shows, TV ...</td>\n",
       "      <td>In a city of coaching centers known to train I...</td>\n",
       "    </tr>\n",
       "  </tbody>\n",
       "</table>\n",
       "</div>"
      ],
      "text/plain": [
       "  show_id     type                  title         director  \\\n",
       "0      s1    Movie   Dick Johnson Is Dead  Kirsten Johnson   \n",
       "1      s2  TV Show          Blood & Water              NaN   \n",
       "2      s3  TV Show              Ganglands  Julien Leclercq   \n",
       "3      s4  TV Show  Jailbirds New Orleans              NaN   \n",
       "4      s5  TV Show           Kota Factory              NaN   \n",
       "\n",
       "                                                cast        country  \\\n",
       "0                                                NaN  United States   \n",
       "1  Ama Qamata, Khosi Ngema, Gail Mabalane, Thaban...   South Africa   \n",
       "2  Sami Bouajila, Tracy Gotoas, Samuel Jouy, Nabi...            NaN   \n",
       "3                                                NaN            NaN   \n",
       "4  Mayur More, Jitendra Kumar, Ranjan Raj, Alam K...          India   \n",
       "\n",
       "           date_added  release_year rating   duration  \\\n",
       "0  September 25, 2021          2020  PG-13     90 min   \n",
       "1  September 24, 2021          2021  TV-MA  2 Seasons   \n",
       "2  September 24, 2021          2021  TV-MA   1 Season   \n",
       "3  September 24, 2021          2021  TV-MA   1 Season   \n",
       "4  September 24, 2021          2021  TV-MA  2 Seasons   \n",
       "\n",
       "                                           listed_in  \\\n",
       "0                                      Documentaries   \n",
       "1    International TV Shows, TV Dramas, TV Mysteries   \n",
       "2  Crime TV Shows, International TV Shows, TV Act...   \n",
       "3                             Docuseries, Reality TV   \n",
       "4  International TV Shows, Romantic TV Shows, TV ...   \n",
       "\n",
       "                                         description  \n",
       "0  As her father nears the end of his life, filmm...  \n",
       "1  After crossing paths at a party, a Cape Town t...  \n",
       "2  To protect his family from a powerful drug lor...  \n",
       "3  Feuds, flirtations and toilet talk go down amo...  \n",
       "4  In a city of coaching centers known to train I...  "
      ]
     },
     "execution_count": 3,
     "metadata": {},
     "output_type": "execute_result"
    }
   ],
   "source": [
    "df.head()"
   ]
  },
  {
   "cell_type": "markdown",
   "id": "da1453e1",
   "metadata": {},
   "source": [
    "## Exploratory Data Analysis"
   ]
  },
  {
   "cell_type": "code",
   "execution_count": 4,
   "id": "237c02cc",
   "metadata": {},
   "outputs": [
    {
     "data": {
      "text/plain": [
       "show_id            0\n",
       "type               0\n",
       "title              0\n",
       "director        2634\n",
       "cast             825\n",
       "country          831\n",
       "date_added        10\n",
       "release_year       0\n",
       "rating             4\n",
       "duration           3\n",
       "listed_in          0\n",
       "description        0\n",
       "dtype: int64"
      ]
     },
     "execution_count": 4,
     "metadata": {},
     "output_type": "execute_result"
    }
   ],
   "source": [
    "# Count of Null values in every column\n",
    "df.isnull().sum()"
   ]
  },
  {
   "cell_type": "code",
   "execution_count": 5,
   "id": "c37abaa0",
   "metadata": {},
   "outputs": [],
   "source": [
    "# Replacing all Null values with 'Na' \n",
    "df = df.fillna('Na')"
   ]
  },
  {
   "cell_type": "code",
   "execution_count": 6,
   "id": "be94dd9c",
   "metadata": {},
   "outputs": [],
   "source": [
    "# Helper function to extract genres and cast from the colum \"listed_in\" and \"cast\" respectively\n",
    "# As a movie or show can have multiple genres and cast members we will make seperate dataframe for both of them\n",
    "\n",
    "def convert_to_series(dataframe, y):\n",
    "    genres = []\n",
    "    for row in dataframe[y]:\n",
    "        row_modified = row.split(\",\")\n",
    "        for genre in row_modified:\n",
    "            genres.append(genre)\n",
    "            \n",
    "    genres_df = pd.DataFrame(genres)\n",
    "    return genres_df\n",
    "\n",
    "# Contains all the Genres from all the movies and shows\n",
    "genres= convert_to_series(df, \"listed_in\")\n",
    "\n",
    "# Contains all the Cast Members names from all the movies and shows\n",
    "cast = convert_to_series(df, \"cast\")"
   ]
  },
  {
   "cell_type": "markdown",
   "id": "6c1b2cf3",
   "metadata": {},
   "source": [
    "## Ploting the Top 10 Genres from this dataset "
   ]
  },
  {
   "cell_type": "code",
   "execution_count": 45,
   "id": "a41ab744",
   "metadata": {},
   "outputs": [
    {
     "data": {
      "text/plain": [
       "<AxesSubplot:>"
      ]
     },
     "execution_count": 45,
     "metadata": {},
     "output_type": "execute_result"
    },
    {
     "data": {
      "image/png": "[encoded data removed]",
      "text/plain": [
       "<Figure size 640x480 with 1 Axes>"
      ]
     },
     "metadata": {},
     "output_type": "display_data"
    }
   ],
   "source": [
    "genres[0].value_counts().head(11)[1:].plot.bar()"
   ]
  },
  {
   "cell_type": "code",
   "execution_count": 8,
   "id": "abd6c9ee",
   "metadata": {},
   "outputs": [
    {
     "data": {
      "text/html": [
       "<div>\n",
       "<style scoped>\n",
       "    .dataframe tbody tr th:only-of-type {\n",
       "        vertical-align: middle;\n",
       "    }\n",
       "\n",
       "    .dataframe tbody tr th {\n",
       "        vertical-align: top;\n",
       "    }\n",
       "\n",
       "    .dataframe thead th {\n",
       "        text-align: right;\n",
       "    }\n",
       "</style>\n",
       "<table border=\"1\" class=\"dataframe\">\n",
       "  <thead>\n",
       "    <tr style=\"text-align: right;\">\n",
       "      <th></th>\n",
       "      <th>0</th>\n",
       "    </tr>\n",
       "  </thead>\n",
       "  <tbody>\n",
       "    <tr>\n",
       "      <th>0</th>\n",
       "      <td>Ama Qamata</td>\n",
       "    </tr>\n",
       "    <tr>\n",
       "      <th>1</th>\n",
       "      <td>Khosi Ngema</td>\n",
       "    </tr>\n",
       "    <tr>\n",
       "      <th>2</th>\n",
       "      <td>Gail Mabalane</td>\n",
       "    </tr>\n",
       "    <tr>\n",
       "      <th>3</th>\n",
       "      <td>Thabang Molaba</td>\n",
       "    </tr>\n",
       "    <tr>\n",
       "      <th>4</th>\n",
       "      <td>Dillon Windvogel</td>\n",
       "    </tr>\n",
       "    <tr>\n",
       "      <th>...</th>\n",
       "      <td>...</td>\n",
       "    </tr>\n",
       "    <tr>\n",
       "      <th>64121</th>\n",
       "      <td>Manish Chaudhary</td>\n",
       "    </tr>\n",
       "    <tr>\n",
       "      <th>64122</th>\n",
       "      <td>Meghna Malik</td>\n",
       "    </tr>\n",
       "    <tr>\n",
       "      <th>64123</th>\n",
       "      <td>Malkeet Rauni</td>\n",
       "    </tr>\n",
       "    <tr>\n",
       "      <th>64124</th>\n",
       "      <td>Anita Shabdish</td>\n",
       "    </tr>\n",
       "    <tr>\n",
       "      <th>64125</th>\n",
       "      <td>Chittaranjan Tripathy</td>\n",
       "    </tr>\n",
       "  </tbody>\n",
       "</table>\n",
       "<p>64126 rows × 1 columns</p>\n",
       "</div>"
      ],
      "text/plain": [
       "                            0\n",
       "0                  Ama Qamata\n",
       "1                 Khosi Ngema\n",
       "2               Gail Mabalane\n",
       "3              Thabang Molaba\n",
       "4            Dillon Windvogel\n",
       "...                       ...\n",
       "64121        Manish Chaudhary\n",
       "64122            Meghna Malik\n",
       "64123           Malkeet Rauni\n",
       "64124          Anita Shabdish\n",
       "64125   Chittaranjan Tripathy\n",
       "\n",
       "[64126 rows x 1 columns]"
      ]
     },
     "execution_count": 8,
     "metadata": {},
     "output_type": "execute_result"
    }
   ],
   "source": [
    "cast = cast[cast[0] !='Na']\n",
    "cast.reset_index(drop=True)"
   ]
  },
  {
   "cell_type": "markdown",
   "id": "db12f41b",
   "metadata": {},
   "source": [
    "## Ploting the Top 10 Cast Members with most movies or shows"
   ]
  },
  {
   "cell_type": "code",
   "execution_count": 9,
   "id": "efbccad2",
   "metadata": {},
   "outputs": [
    {
     "data": {
      "text/plain": [
       "<AxesSubplot:xlabel='0'>"
      ]
     },
     "execution_count": 9,
     "metadata": {},
     "output_type": "execute_result"
    },
    {
     "data": {
      "image/png": "[encoded data removed]",
      "text/plain": [
       "<Figure size 640x480 with 1 Axes>"
      ]
     },
     "metadata": {},
     "output_type": "display_data"
    }
   ],
   "source": [
    "cast.value_counts().head(20).plot.bar()"
   ]
  },
  {
   "cell_type": "markdown",
   "id": "000e487d",
   "metadata": {},
   "source": [
    "## Ploting the Top 10 Directors with most movies or shows"
   ]
  },
  {
   "cell_type": "code",
   "execution_count": 46,
   "id": "07ef0c1a",
   "metadata": {},
   "outputs": [
    {
     "data": {
      "text/plain": [
       "<AxesSubplot:>"
      ]
     },
     "execution_count": 46,
     "metadata": {},
     "output_type": "execute_result"
    },
    {
     "data": {
      "image/png": "[encoded data removed]",
      "text/plain": [
       "<Figure size 640x480 with 1 Axes>"
      ]
     },
     "metadata": {},
     "output_type": "display_data"
    }
   ],
   "source": [
    "df['director'].value_counts().head(11)[1:].plot.bar()"
   ]
  },
  {
   "cell_type": "markdown",
   "id": "a3490c82",
   "metadata": {},
   "source": [
    "## Ploting the Movies or Shows with particular Age Restriction"
   ]
  },
  {
   "cell_type": "code",
   "execution_count": 12,
   "id": "c453fba4",
   "metadata": {},
   "outputs": [
    {
     "data": {
      "text/plain": [
       "<AxesSubplot:>"
      ]
     },
     "execution_count": 12,
     "metadata": {},
     "output_type": "execute_result"
    },
    {
     "data": {
      "image/png": "[encoded data removed]",
      "text/plain": [
       "<Figure size 640x480 with 1 Axes>"
      ]
     },
     "metadata": {},
     "output_type": "display_data"
    }
   ],
   "source": [
    "df['rating'].value_counts().head(10).plot.bar()"
   ]
  },
  {
   "cell_type": "markdown",
   "id": "a90d5638",
   "metadata": {},
   "source": [
    "## Count of movies and shows in the data set"
   ]
  },
  {
   "cell_type": "code",
   "execution_count": 13,
   "id": "feea3be5",
   "metadata": {},
   "outputs": [
    {
     "data": {
      "text/plain": [
       "<AxesSubplot:ylabel='type'>"
      ]
     },
     "execution_count": 13,
     "metadata": {},
     "output_type": "execute_result"
    },
    {
     "data": {
      "image/png": "[encoded data removed]",
      "text/plain": [
       "<Figure size 640x480 with 1 Axes>"
      ]
     },
     "metadata": {},
     "output_type": "display_data"
    }
   ],
   "source": [
    "df['type'].value_counts().plot.pie()"
   ]
  },
  {
   "cell_type": "markdown",
   "id": "0568c45d",
   "metadata": {},
   "source": [
    "## Top Countries where most Netflix Movies or shows are produced "
   ]
  },
  {
   "cell_type": "code",
   "execution_count": 17,
   "id": "64edab59",
   "metadata": {},
   "outputs": [
    {
     "data": {
      "text/plain": [
       "<AxesSubplot:ylabel='country'>"
      ]
     },
     "execution_count": 17,
     "metadata": {},
     "output_type": "execute_result"
    },
    {
     "data": {
      "image/png": "[encoded data removed]",
      "text/plain": [
       "<Figure size 640x480 with 1 Axes>"
      ]
     },
     "metadata": {},
     "output_type": "display_data"
    }
   ],
   "source": [
    "df['country'].value_counts().head(6).plot.pie()"
   ]
  },
  {
   "cell_type": "markdown",
   "id": "0a9f330d",
   "metadata": {},
   "source": [
    "# Recommendation System "
   ]
  },
  {
   "cell_type": "code",
   "execution_count": null,
   "id": "3f260fe9",
   "metadata": {},
   "outputs": [],
   "source": []
  },
  {
   "cell_type": "code",
   "execution_count": 18,
   "id": "af710e33",
   "metadata": {},
   "outputs": [
    {
     "data": {
      "text/plain": [
       "Index(['show_id', 'type', 'title', 'director', 'cast', 'country', 'date_added',\n",
       "       'release_year', 'rating', 'duration', 'listed_in', 'description'],\n",
       "      dtype='object')"
      ]
     },
     "execution_count": 18,
     "metadata": {},
     "output_type": "execute_result"
    }
   ],
   "source": [
    "df.columns"
   ]
  },
  {
   "cell_type": "code",
   "execution_count": 19,
   "id": "83a30a6a",
   "metadata": {},
   "outputs": [],
   "source": [
    "df = df[['show_id', 'type', 'title', 'director', 'cast',\n",
    "       'release_year', 'listed_in', 'description']]"
   ]
  },
  {
   "cell_type": "code",
   "execution_count": 20,
   "id": "f62817c4",
   "metadata": {},
   "outputs": [],
   "source": [
    "def Convert(string):\n",
    "    l1 = []\n",
    "    for i in string:\n",
    "        li = list(i.split(\",\"))\n",
    "        l1.append(li)\n",
    "    return l1"
   ]
  },
  {
   "cell_type": "code",
   "execution_count": 21,
   "id": "c69dcdfc",
   "metadata": {},
   "outputs": [],
   "source": [
    "df['director'] = (Convert(df['director']))\n",
    "df['cast'] = (Convert(df['cast']))\n",
    "df['listed_in'] = (Convert(df['listed_in']))"
   ]
  },
  {
   "cell_type": "code",
   "execution_count": 22,
   "id": "9ec202b3",
   "metadata": {},
   "outputs": [],
   "source": [
    "df['description'] = df['description'].apply(lambda x:x.split())"
   ]
  },
  {
   "cell_type": "code",
   "execution_count": 23,
   "id": "52510d36",
   "metadata": {},
   "outputs": [
    {
     "data": {
      "text/html": [
       "<div>\n",
       "<style scoped>\n",
       "    .dataframe tbody tr th:only-of-type {\n",
       "        vertical-align: middle;\n",
       "    }\n",
       "\n",
       "    .dataframe tbody tr th {\n",
       "        vertical-align: top;\n",
       "    }\n",
       "\n",
       "    .dataframe thead th {\n",
       "        text-align: right;\n",
       "    }\n",
       "</style>\n",
       "<table border=\"1\" class=\"dataframe\">\n",
       "  <thead>\n",
       "    <tr style=\"text-align: right;\">\n",
       "      <th></th>\n",
       "      <th>show_id</th>\n",
       "      <th>type</th>\n",
       "      <th>title</th>\n",
       "      <th>director</th>\n",
       "      <th>cast</th>\n",
       "      <th>release_year</th>\n",
       "      <th>listed_in</th>\n",
       "      <th>description</th>\n",
       "    </tr>\n",
       "  </thead>\n",
       "  <tbody>\n",
       "    <tr>\n",
       "      <th>0</th>\n",
       "      <td>s1</td>\n",
       "      <td>Movie</td>\n",
       "      <td>Dick Johnson Is Dead</td>\n",
       "      <td>[Kirsten Johnson]</td>\n",
       "      <td>[Na]</td>\n",
       "      <td>2020</td>\n",
       "      <td>[Documentaries]</td>\n",
       "      <td>[As, her, father, nears, the, end, of, his, li...</td>\n",
       "    </tr>\n",
       "    <tr>\n",
       "      <th>1</th>\n",
       "      <td>s2</td>\n",
       "      <td>TV Show</td>\n",
       "      <td>Blood &amp; Water</td>\n",
       "      <td>[Na]</td>\n",
       "      <td>[Ama Qamata,  Khosi Ngema,  Gail Mabalane,  Th...</td>\n",
       "      <td>2021</td>\n",
       "      <td>[International TV Shows,  TV Dramas,  TV Myste...</td>\n",
       "      <td>[After, crossing, paths, at, a, party,, a, Cap...</td>\n",
       "    </tr>\n",
       "    <tr>\n",
       "      <th>2</th>\n",
       "      <td>s3</td>\n",
       "      <td>TV Show</td>\n",
       "      <td>Ganglands</td>\n",
       "      <td>[Julien Leclercq]</td>\n",
       "      <td>[Sami Bouajila,  Tracy Gotoas,  Samuel Jouy,  ...</td>\n",
       "      <td>2021</td>\n",
       "      <td>[Crime TV Shows,  International TV Shows,  TV ...</td>\n",
       "      <td>[To, protect, his, family, from, a, powerful, ...</td>\n",
       "    </tr>\n",
       "    <tr>\n",
       "      <th>3</th>\n",
       "      <td>s4</td>\n",
       "      <td>TV Show</td>\n",
       "      <td>Jailbirds New Orleans</td>\n",
       "      <td>[Na]</td>\n",
       "      <td>[Na]</td>\n",
       "      <td>2021</td>\n",
       "      <td>[Docuseries,  Reality TV]</td>\n",
       "      <td>[Feuds,, flirtations, and, toilet, talk, go, d...</td>\n",
       "    </tr>\n",
       "    <tr>\n",
       "      <th>4</th>\n",
       "      <td>s5</td>\n",
       "      <td>TV Show</td>\n",
       "      <td>Kota Factory</td>\n",
       "      <td>[Na]</td>\n",
       "      <td>[Mayur More,  Jitendra Kumar,  Ranjan Raj,  Al...</td>\n",
       "      <td>2021</td>\n",
       "      <td>[International TV Shows,  Romantic TV Shows,  ...</td>\n",
       "      <td>[In, a, city, of, coaching, centers, known, to...</td>\n",
       "    </tr>\n",
       "  </tbody>\n",
       "</table>\n",
       "</div>"
      ],
      "text/plain": [
       "  show_id     type                  title           director  \\\n",
       "0      s1    Movie   Dick Johnson Is Dead  [Kirsten Johnson]   \n",
       "1      s2  TV Show          Blood & Water               [Na]   \n",
       "2      s3  TV Show              Ganglands  [Julien Leclercq]   \n",
       "3      s4  TV Show  Jailbirds New Orleans               [Na]   \n",
       "4      s5  TV Show           Kota Factory               [Na]   \n",
       "\n",
       "                                                cast  release_year  \\\n",
       "0                                               [Na]          2020   \n",
       "1  [Ama Qamata,  Khosi Ngema,  Gail Mabalane,  Th...          2021   \n",
       "2  [Sami Bouajila,  Tracy Gotoas,  Samuel Jouy,  ...          2021   \n",
       "3                                               [Na]          2021   \n",
       "4  [Mayur More,  Jitendra Kumar,  Ranjan Raj,  Al...          2021   \n",
       "\n",
       "                                           listed_in  \\\n",
       "0                                    [Documentaries]   \n",
       "1  [International TV Shows,  TV Dramas,  TV Myste...   \n",
       "2  [Crime TV Shows,  International TV Shows,  TV ...   \n",
       "3                          [Docuseries,  Reality TV]   \n",
       "4  [International TV Shows,  Romantic TV Shows,  ...   \n",
       "\n",
       "                                         description  \n",
       "0  [As, her, father, nears, the, end, of, his, li...  \n",
       "1  [After, crossing, paths, at, a, party,, a, Cap...  \n",
       "2  [To, protect, his, family, from, a, powerful, ...  \n",
       "3  [Feuds,, flirtations, and, toilet, talk, go, d...  \n",
       "4  [In, a, city, of, coaching, centers, known, to...  "
      ]
     },
     "execution_count": 23,
     "metadata": {},
     "output_type": "execute_result"
    }
   ],
   "source": [
    "df.head()"
   ]
  },
  {
   "cell_type": "code",
   "execution_count": 24,
   "id": "083f0fec",
   "metadata": {},
   "outputs": [],
   "source": [
    "def collapse(L):\n",
    "    L1 = []\n",
    "    for i in L:\n",
    "        L1.append(i.replace(\" \",\"\"))\n",
    "    return L1"
   ]
  },
  {
   "cell_type": "code",
   "execution_count": 25,
   "id": "60c0204c",
   "metadata": {},
   "outputs": [],
   "source": [
    "df['director'] = df['director'].apply(collapse)\n",
    "df['cast'] = df['cast'].apply(collapse)"
   ]
  },
  {
   "cell_type": "code",
   "execution_count": 26,
   "id": "556ce322",
   "metadata": {},
   "outputs": [
    {
     "data": {
      "text/html": [
       "<div>\n",
       "<style scoped>\n",
       "    .dataframe tbody tr th:only-of-type {\n",
       "        vertical-align: middle;\n",
       "    }\n",
       "\n",
       "    .dataframe tbody tr th {\n",
       "        vertical-align: top;\n",
       "    }\n",
       "\n",
       "    .dataframe thead th {\n",
       "        text-align: right;\n",
       "    }\n",
       "</style>\n",
       "<table border=\"1\" class=\"dataframe\">\n",
       "  <thead>\n",
       "    <tr style=\"text-align: right;\">\n",
       "      <th></th>\n",
       "      <th>show_id</th>\n",
       "      <th>type</th>\n",
       "      <th>title</th>\n",
       "      <th>director</th>\n",
       "      <th>cast</th>\n",
       "      <th>release_year</th>\n",
       "      <th>listed_in</th>\n",
       "      <th>description</th>\n",
       "    </tr>\n",
       "  </thead>\n",
       "  <tbody>\n",
       "    <tr>\n",
       "      <th>0</th>\n",
       "      <td>s1</td>\n",
       "      <td>Movie</td>\n",
       "      <td>Dick Johnson Is Dead</td>\n",
       "      <td>[KirstenJohnson]</td>\n",
       "      <td>[Na]</td>\n",
       "      <td>2020</td>\n",
       "      <td>[Documentaries]</td>\n",
       "      <td>[As, her, father, nears, the, end, of, his, li...</td>\n",
       "    </tr>\n",
       "    <tr>\n",
       "      <th>1</th>\n",
       "      <td>s2</td>\n",
       "      <td>TV Show</td>\n",
       "      <td>Blood &amp; Water</td>\n",
       "      <td>[Na]</td>\n",
       "      <td>[AmaQamata, KhosiNgema, GailMabalane, ThabangM...</td>\n",
       "      <td>2021</td>\n",
       "      <td>[International TV Shows,  TV Dramas,  TV Myste...</td>\n",
       "      <td>[After, crossing, paths, at, a, party,, a, Cap...</td>\n",
       "    </tr>\n",
       "    <tr>\n",
       "      <th>2</th>\n",
       "      <td>s3</td>\n",
       "      <td>TV Show</td>\n",
       "      <td>Ganglands</td>\n",
       "      <td>[JulienLeclercq]</td>\n",
       "      <td>[SamiBouajila, TracyGotoas, SamuelJouy, Nabiha...</td>\n",
       "      <td>2021</td>\n",
       "      <td>[Crime TV Shows,  International TV Shows,  TV ...</td>\n",
       "      <td>[To, protect, his, family, from, a, powerful, ...</td>\n",
       "    </tr>\n",
       "    <tr>\n",
       "      <th>3</th>\n",
       "      <td>s4</td>\n",
       "      <td>TV Show</td>\n",
       "      <td>Jailbirds New Orleans</td>\n",
       "      <td>[Na]</td>\n",
       "      <td>[Na]</td>\n",
       "      <td>2021</td>\n",
       "      <td>[Docuseries,  Reality TV]</td>\n",
       "      <td>[Feuds,, flirtations, and, toilet, talk, go, d...</td>\n",
       "    </tr>\n",
       "    <tr>\n",
       "      <th>4</th>\n",
       "      <td>s5</td>\n",
       "      <td>TV Show</td>\n",
       "      <td>Kota Factory</td>\n",
       "      <td>[Na]</td>\n",
       "      <td>[MayurMore, JitendraKumar, RanjanRaj, AlamKhan...</td>\n",
       "      <td>2021</td>\n",
       "      <td>[International TV Shows,  Romantic TV Shows,  ...</td>\n",
       "      <td>[In, a, city, of, coaching, centers, known, to...</td>\n",
       "    </tr>\n",
       "  </tbody>\n",
       "</table>\n",
       "</div>"
      ],
      "text/plain": [
       "  show_id     type                  title          director  \\\n",
       "0      s1    Movie   Dick Johnson Is Dead  [KirstenJohnson]   \n",
       "1      s2  TV Show          Blood & Water              [Na]   \n",
       "2      s3  TV Show              Ganglands  [JulienLeclercq]   \n",
       "3      s4  TV Show  Jailbirds New Orleans              [Na]   \n",
       "4      s5  TV Show           Kota Factory              [Na]   \n",
       "\n",
       "                                                cast  release_year  \\\n",
       "0                                               [Na]          2020   \n",
       "1  [AmaQamata, KhosiNgema, GailMabalane, ThabangM...          2021   \n",
       "2  [SamiBouajila, TracyGotoas, SamuelJouy, Nabiha...          2021   \n",
       "3                                               [Na]          2021   \n",
       "4  [MayurMore, JitendraKumar, RanjanRaj, AlamKhan...          2021   \n",
       "\n",
       "                                           listed_in  \\\n",
       "0                                    [Documentaries]   \n",
       "1  [International TV Shows,  TV Dramas,  TV Myste...   \n",
       "2  [Crime TV Shows,  International TV Shows,  TV ...   \n",
       "3                          [Docuseries,  Reality TV]   \n",
       "4  [International TV Shows,  Romantic TV Shows,  ...   \n",
       "\n",
       "                                         description  \n",
       "0  [As, her, father, nears, the, end, of, his, li...  \n",
       "1  [After, crossing, paths, at, a, party,, a, Cap...  \n",
       "2  [To, protect, his, family, from, a, powerful, ...  \n",
       "3  [Feuds,, flirtations, and, toilet, talk, go, d...  \n",
       "4  [In, a, city, of, coaching, centers, known, to...  "
      ]
     },
     "execution_count": 26,
     "metadata": {},
     "output_type": "execute_result"
    }
   ],
   "source": [
    "df.head()"
   ]
  },
  {
   "cell_type": "code",
   "execution_count": 27,
   "id": "83fb1a08",
   "metadata": {},
   "outputs": [],
   "source": [
    "df['tags'] = df['director'] + df['cast'] + df['listed_in'] + df['description']"
   ]
  },
  {
   "cell_type": "code",
   "execution_count": 28,
   "id": "8e78b7d9",
   "metadata": {},
   "outputs": [],
   "source": [
    "new_df = df[['show_id', 'type', 'title', 'release_year', 'tags']]"
   ]
  },
  {
   "cell_type": "code",
   "execution_count": 29,
   "id": "73d3b431",
   "metadata": {},
   "outputs": [
    {
     "data": {
      "text/html": [
       "<div>\n",
       "<style scoped>\n",
       "    .dataframe tbody tr th:only-of-type {\n",
       "        vertical-align: middle;\n",
       "    }\n",
       "\n",
       "    .dataframe tbody tr th {\n",
       "        vertical-align: top;\n",
       "    }\n",
       "\n",
       "    .dataframe thead th {\n",
       "        text-align: right;\n",
       "    }\n",
       "</style>\n",
       "<table border=\"1\" class=\"dataframe\">\n",
       "  <thead>\n",
       "    <tr style=\"text-align: right;\">\n",
       "      <th></th>\n",
       "      <th>show_id</th>\n",
       "      <th>type</th>\n",
       "      <th>title</th>\n",
       "      <th>release_year</th>\n",
       "      <th>tags</th>\n",
       "    </tr>\n",
       "  </thead>\n",
       "  <tbody>\n",
       "    <tr>\n",
       "      <th>0</th>\n",
       "      <td>s1</td>\n",
       "      <td>Movie</td>\n",
       "      <td>Dick Johnson Is Dead</td>\n",
       "      <td>2020</td>\n",
       "      <td>[KirstenJohnson, Na, Documentaries, As, her, f...</td>\n",
       "    </tr>\n",
       "    <tr>\n",
       "      <th>1</th>\n",
       "      <td>s2</td>\n",
       "      <td>TV Show</td>\n",
       "      <td>Blood &amp; Water</td>\n",
       "      <td>2021</td>\n",
       "      <td>[Na, AmaQamata, KhosiNgema, GailMabalane, Thab...</td>\n",
       "    </tr>\n",
       "    <tr>\n",
       "      <th>2</th>\n",
       "      <td>s3</td>\n",
       "      <td>TV Show</td>\n",
       "      <td>Ganglands</td>\n",
       "      <td>2021</td>\n",
       "      <td>[JulienLeclercq, SamiBouajila, TracyGotoas, Sa...</td>\n",
       "    </tr>\n",
       "    <tr>\n",
       "      <th>3</th>\n",
       "      <td>s4</td>\n",
       "      <td>TV Show</td>\n",
       "      <td>Jailbirds New Orleans</td>\n",
       "      <td>2021</td>\n",
       "      <td>[Na, Na, Docuseries,  Reality TV, Feuds,, flir...</td>\n",
       "    </tr>\n",
       "    <tr>\n",
       "      <th>4</th>\n",
       "      <td>s5</td>\n",
       "      <td>TV Show</td>\n",
       "      <td>Kota Factory</td>\n",
       "      <td>2021</td>\n",
       "      <td>[Na, MayurMore, JitendraKumar, RanjanRaj, Alam...</td>\n",
       "    </tr>\n",
       "  </tbody>\n",
       "</table>\n",
       "</div>"
      ],
      "text/plain": [
       "  show_id     type                  title  release_year  \\\n",
       "0      s1    Movie   Dick Johnson Is Dead          2020   \n",
       "1      s2  TV Show          Blood & Water          2021   \n",
       "2      s3  TV Show              Ganglands          2021   \n",
       "3      s4  TV Show  Jailbirds New Orleans          2021   \n",
       "4      s5  TV Show           Kota Factory          2021   \n",
       "\n",
       "                                                tags  \n",
       "0  [KirstenJohnson, Na, Documentaries, As, her, f...  \n",
       "1  [Na, AmaQamata, KhosiNgema, GailMabalane, Thab...  \n",
       "2  [JulienLeclercq, SamiBouajila, TracyGotoas, Sa...  \n",
       "3  [Na, Na, Docuseries,  Reality TV, Feuds,, flir...  \n",
       "4  [Na, MayurMore, JitendraKumar, RanjanRaj, Alam...  "
      ]
     },
     "execution_count": 29,
     "metadata": {},
     "output_type": "execute_result"
    }
   ],
   "source": [
    "new_df.head()"
   ]
  },
  {
   "cell_type": "code",
   "execution_count": 30,
   "id": "75844015",
   "metadata": {},
   "outputs": [
    {
     "name": "stderr",
     "output_type": "stream",
     "text": [
      "C:\\Users\\suraj\\AppData\\Local\\Temp\\ipykernel_4656\\1824047427.py:1: SettingWithCopyWarning: \n",
      "A value is trying to be set on a copy of a slice from a DataFrame.\n",
      "Try using .loc[row_indexer,col_indexer] = value instead\n",
      "\n",
      "See the caveats in the documentation: https://pandas.pydata.org/pandas-docs/stable/user_guide/indexing.html#returning-a-view-versus-a-copy\n",
      "  new_df['tags'] = new_df['tags'].apply(lambda x: \" \".join(x))\n"
     ]
    }
   ],
   "source": [
    "new_df['tags'] = new_df['tags'].apply(lambda x: \" \".join(x))"
   ]
  },
  {
   "cell_type": "code",
   "execution_count": 31,
   "id": "50d7d001",
   "metadata": {},
   "outputs": [
    {
     "name": "stderr",
     "output_type": "stream",
     "text": [
      "C:\\Users\\suraj\\AppData\\Local\\Temp\\ipykernel_4656\\1380776331.py:1: SettingWithCopyWarning: \n",
      "A value is trying to be set on a copy of a slice from a DataFrame.\n",
      "Try using .loc[row_indexer,col_indexer] = value instead\n",
      "\n",
      "See the caveats in the documentation: https://pandas.pydata.org/pandas-docs/stable/user_guide/indexing.html#returning-a-view-versus-a-copy\n",
      "  new_df['tags'] = new_df['tags'].apply(lambda x: x.lower())\n"
     ]
    }
   ],
   "source": [
    "new_df['tags'] = new_df['tags'].apply(lambda x: x.lower())"
   ]
  },
  {
   "cell_type": "code",
   "execution_count": 32,
   "id": "094b3127",
   "metadata": {},
   "outputs": [
    {
     "data": {
      "text/html": [
       "<div>\n",
       "<style scoped>\n",
       "    .dataframe tbody tr th:only-of-type {\n",
       "        vertical-align: middle;\n",
       "    }\n",
       "\n",
       "    .dataframe tbody tr th {\n",
       "        vertical-align: top;\n",
       "    }\n",
       "\n",
       "    .dataframe thead th {\n",
       "        text-align: right;\n",
       "    }\n",
       "</style>\n",
       "<table border=\"1\" class=\"dataframe\">\n",
       "  <thead>\n",
       "    <tr style=\"text-align: right;\">\n",
       "      <th></th>\n",
       "      <th>show_id</th>\n",
       "      <th>type</th>\n",
       "      <th>title</th>\n",
       "      <th>release_year</th>\n",
       "      <th>tags</th>\n",
       "    </tr>\n",
       "  </thead>\n",
       "  <tbody>\n",
       "    <tr>\n",
       "      <th>0</th>\n",
       "      <td>s1</td>\n",
       "      <td>Movie</td>\n",
       "      <td>Dick Johnson Is Dead</td>\n",
       "      <td>2020</td>\n",
       "      <td>kirstenjohnson na documentaries as her father ...</td>\n",
       "    </tr>\n",
       "    <tr>\n",
       "      <th>1</th>\n",
       "      <td>s2</td>\n",
       "      <td>TV Show</td>\n",
       "      <td>Blood &amp; Water</td>\n",
       "      <td>2021</td>\n",
       "      <td>na amaqamata khosingema gailmabalane thabangmo...</td>\n",
       "    </tr>\n",
       "    <tr>\n",
       "      <th>2</th>\n",
       "      <td>s3</td>\n",
       "      <td>TV Show</td>\n",
       "      <td>Ganglands</td>\n",
       "      <td>2021</td>\n",
       "      <td>julienleclercq samibouajila tracygotoas samuel...</td>\n",
       "    </tr>\n",
       "    <tr>\n",
       "      <th>3</th>\n",
       "      <td>s4</td>\n",
       "      <td>TV Show</td>\n",
       "      <td>Jailbirds New Orleans</td>\n",
       "      <td>2021</td>\n",
       "      <td>na na docuseries  reality tv feuds, flirtation...</td>\n",
       "    </tr>\n",
       "    <tr>\n",
       "      <th>4</th>\n",
       "      <td>s5</td>\n",
       "      <td>TV Show</td>\n",
       "      <td>Kota Factory</td>\n",
       "      <td>2021</td>\n",
       "      <td>na mayurmore jitendrakumar ranjanraj alamkhan ...</td>\n",
       "    </tr>\n",
       "  </tbody>\n",
       "</table>\n",
       "</div>"
      ],
      "text/plain": [
       "  show_id     type                  title  release_year  \\\n",
       "0      s1    Movie   Dick Johnson Is Dead          2020   \n",
       "1      s2  TV Show          Blood & Water          2021   \n",
       "2      s3  TV Show              Ganglands          2021   \n",
       "3      s4  TV Show  Jailbirds New Orleans          2021   \n",
       "4      s5  TV Show           Kota Factory          2021   \n",
       "\n",
       "                                                tags  \n",
       "0  kirstenjohnson na documentaries as her father ...  \n",
       "1  na amaqamata khosingema gailmabalane thabangmo...  \n",
       "2  julienleclercq samibouajila tracygotoas samuel...  \n",
       "3  na na docuseries  reality tv feuds, flirtation...  \n",
       "4  na mayurmore jitendrakumar ranjanraj alamkhan ...  "
      ]
     },
     "execution_count": 32,
     "metadata": {},
     "output_type": "execute_result"
    }
   ],
   "source": [
    "new_df.head()"
   ]
  },
  {
   "cell_type": "code",
   "execution_count": 33,
   "id": "4ce45dc4",
   "metadata": {},
   "outputs": [],
   "source": [
    "from sklearn.feature_extraction.text import CountVectorizer\n",
    "cv = CountVectorizer(max_features=5000,stop_words='english')"
   ]
  },
  {
   "cell_type": "code",
   "execution_count": 34,
   "id": "1b44d9bc",
   "metadata": {},
   "outputs": [],
   "source": [
    "vector = cv.fit_transform(new_df['tags']).toarray()"
   ]
  },
  {
   "cell_type": "code",
   "execution_count": null,
   "id": "9246b7b9",
   "metadata": {},
   "outputs": [],
   "source": []
  },
  {
   "cell_type": "code",
   "execution_count": 35,
   "id": "e0d356a4",
   "metadata": {},
   "outputs": [],
   "source": [
    "from nltk.stem.porter import PorterStemmer\n",
    "ps = PorterStemmer()"
   ]
  },
  {
   "cell_type": "code",
   "execution_count": 36,
   "id": "55841456",
   "metadata": {},
   "outputs": [],
   "source": [
    "def stem (text):\n",
    "    y =[]\n",
    "    for i in text.split():\n",
    "        y.append(ps.stem(i))\n",
    "    return \" \".join(y)"
   ]
  },
  {
   "cell_type": "code",
   "execution_count": 37,
   "id": "57aa4213",
   "metadata": {},
   "outputs": [
    {
     "name": "stderr",
     "output_type": "stream",
     "text": [
      "C:\\Users\\suraj\\AppData\\Local\\Temp\\ipykernel_4656\\3213734980.py:1: SettingWithCopyWarning: \n",
      "A value is trying to be set on a copy of a slice from a DataFrame.\n",
      "Try using .loc[row_indexer,col_indexer] = value instead\n",
      "\n",
      "See the caveats in the documentation: https://pandas.pydata.org/pandas-docs/stable/user_guide/indexing.html#returning-a-view-versus-a-copy\n",
      "  new_df['tags'] = new_df['tags'].apply(stem)\n"
     ]
    }
   ],
   "source": [
    "new_df['tags'] = new_df['tags'].apply(stem)"
   ]
  },
  {
   "cell_type": "code",
   "execution_count": 38,
   "id": "dedaae62",
   "metadata": {},
   "outputs": [],
   "source": [
    "vector = cv.fit_transform(new_df['tags']).toarray()\n"
   ]
  },
  {
   "cell_type": "code",
   "execution_count": 39,
   "id": "2584f6d3",
   "metadata": {},
   "outputs": [],
   "source": [
    "from sklearn.metrics.pairwise import cosine_similarity"
   ]
  },
  {
   "cell_type": "code",
   "execution_count": 40,
   "id": "d474abe7",
   "metadata": {},
   "outputs": [],
   "source": [
    "similarity = cosine_similarity(vector)"
   ]
  },
  {
   "cell_type": "code",
   "execution_count": 41,
   "id": "b3bf7742",
   "metadata": {},
   "outputs": [
    {
     "data": {
      "text/plain": [
       "(8807, 8807)"
      ]
     },
     "execution_count": 41,
     "metadata": {},
     "output_type": "execute_result"
    }
   ],
   "source": [
    "similarity.shape"
   ]
  },
  {
   "cell_type": "code",
   "execution_count": 42,
   "id": "2b10e362",
   "metadata": {},
   "outputs": [],
   "source": [
    "def recommend(movie):\n",
    "    index = new_df[new_df['title'] == movie].index[0]\n",
    "    distances = sorted(list(enumerate(similarity[index])),reverse=True,key = lambda x: x[1])\n",
    "    for i in distances[0:6]:\n",
    "        print(new_df.iloc[i[0]]['title'], new_df.iloc[i[0]]['release_year'])\n"
   ]
  },
  {
   "cell_type": "code",
   "execution_count": 43,
   "id": "d22df795",
   "metadata": {},
   "outputs": [
    {
     "name": "stdout",
     "output_type": "stream",
     "text": [
      "Friends 2003\n",
      "Why Are You Like This 2021\n",
      "Dad's Army 1977\n",
      "Workin' Moms 2021\n",
      "Little Things 2019\n",
      "La Rosa de Guadalupe 2010\n"
     ]
    }
   ],
   "source": [
    "recommend(\"Friends\")"
   ]
  },
  {
   "cell_type": "code",
   "execution_count": null,
   "id": "15b4d5f9",
   "metadata": {},
   "outputs": [],
   "source": []
  },
  {
   "cell_type": "code",
   "execution_count": null,
   "id": "837d1870",
   "metadata": {},
   "outputs": [],
   "source": []
  },
  {
   "cell_type": "code",
   "execution_count": null,
   "id": "321c35d1",
   "metadata": {},
   "outputs": [],
   "source": []
  }
 ],
 "metadata": {
  "kernelspec": {
   "display_name": "Python 3 (ipykernel)",
   "language": "python",
   "name": "python3"
  },
  "language_info": {
   "codemirror_mode": {
    "name": "ipython",
    "version": 3
   },
   "file_extension": ".py",
   "mimetype": "text/x-python",
   "name": "python",
   "nbconvert_exporter": "python",
   "pygments_lexer": "ipython3",
   "version": "3.9.13"
  }
 },
 "nbformat": 4,
 "nbformat_minor": 5
}
